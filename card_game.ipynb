{
 "cells": [
  {
   "cell_type": "markdown",
   "metadata": {
    "colab_type": "text",
    "id": "view-in-github"
   },
   "source": [
    "<a href=\"https://colab.research.google.com/github/cjqian/flappy/blob/master/card_game.ipynb\" target=\"_parent\"><img src=\"https://colab.research.google.com/assets/colab-badge.svg\" alt=\"Open In Colab\"/></a>"
   ]
  },
  {
   "cell_type": "markdown",
   "metadata": {
    "id": "Pz71bjAs6Mrm"
   },
   "source": [
    "# Background\n",
    "\n",
    "Let's wager on a card game. In front of you is a shuffled deck of 52 cards face-down. Half are red, half are black. Once you saw \"halt\", I'll flip over the next card and end the game. If the final card is red, you win 1. Otherwise, you lose 1. Let's play!"
   ]
  },
  {
   "cell_type": "code",
   "execution_count": 1,
   "metadata": {
    "id": "9Rqretej6AQR"
   },
   "outputs": [],
   "source": [
    "import numpy as np\n",
    "import pandas as pd\n",
    "import random\n",
    "import tensorflow as tf\n",
    "from collections import deque\n",
    "import matplotlib.pyplot as plt"
   ]
  },
  {
   "cell_type": "markdown",
   "metadata": {
    "id": "ux1Bss7q64I-"
   },
   "source": [
    "# Set up the game/environment."
   ]
  },
  {
   "cell_type": "code",
   "execution_count": 2,
   "metadata": {
    "id": "ogu-bEjg7Iv5"
   },
   "outputs": [],
   "source": [
    "# The actions are to stop or to continue.\n",
    "ACTION_GO = 0\n",
    "ACTION_STOP = 1\n",
    "\n",
    "# The observation is the entire history of the game thus far. [RED, BLACK...]\n",
    "CARD_RED = 0\n",
    "CARD_BLACK = 1\n",
    "\n",
    "DECK_SIZE = 52\n",
    "\n",
    "class Environment():\n",
    "  def __init__(self):\n",
    "    self._dealt_cards = []\n",
    "    \n",
    "    # Same number of red and black cards.\n",
    "    red_cards = [CARD_RED] * int(DECK_SIZE / 2)\n",
    "    black_cards = [CARD_BLACK] * int(DECK_SIZE / 2)\n",
    "    self._deck = red_cards + black_cards\n",
    "    random.shuffle(self._deck)\n",
    "\n",
    "  def step(self, action):\n",
    "    \"\"\"Returns reward, state, and whether the game is done.\"\"\"\n",
    "    done = False\n",
    "    if len(self._deck) == 1 or action == ACTION_STOP:\n",
    "      done = True\n",
    "    card = self._deck.pop()\n",
    "    self._dealt_cards.append(card)\n",
    "    reward = 0\n",
    "\n",
    "  # The rewards are $1 if we win, -$1 if we lost,\n",
    "  # or $0 if the game has not ended.\n",
    "    if done:\n",
    "      reward = 1 if card == CARD_RED else -1\n",
    "    return (self.get_n_red_black_state(), reward, done)\n",
    "\n",
    "  def get_full_state(self):\n",
    "    return self._dealt_cards\n",
    "\n",
    "  def get_n_red_black_state(self):\n",
    "    n_red = len([x for x in self._dealt_cards if x == CARD_RED])\n",
    "    n_black = len(self._dealt_cards) - n_red\n",
    "    return [n_red, n_black]"
   ]
  },
  {
   "cell_type": "markdown",
   "metadata": {
    "id": "PJFe0NSSOypZ"
   },
   "source": [
    "# Approach 0: Random Baseline"
   ]
  },
  {
   "cell_type": "code",
   "execution_count": 4,
   "metadata": {
    "colab": {
     "base_uri": "https://localhost:8080/",
     "height": 299
    },
    "id": "ZHsRLxXlOz92",
    "outputId": "0753e0b5-4f69-4474-b1ac-c230942adab5"
   },
   "outputs": [
    {
     "name": "stdout",
     "output_type": "stream",
     "text": [
      "Score over time: -0.018\n"
     ]
    },
    {
     "data": {
      "text/plain": [
       "<matplotlib.axes._subplots.AxesSubplot at 0x7fc99694f5f8>"
      ]
     },
     "execution_count": 4,
     "metadata": {
      "tags": []
     },
     "output_type": "execute_result"
    },
    {
     "data": {
      "image/png": "[encoded data removed]",
      "text/plain": [
       "<Figure size 432x288 with 1 Axes>"
      ]
     },
     "metadata": {
      "needs_background": "light",
      "tags": []
     },
     "output_type": "display_data"
    }
   ],
   "source": [
    "RANDOM_REWARDS = []\n",
    "\n",
    "total_episodes = 1000\n",
    "for episode in range(1, total_episodes+ 1):\n",
    "    if (episode % 10000) == 0:\n",
    "        print(\"Progress: {} ({})\".format(round((episode + 0.0)/total_episodes, 4),\n",
    "                                         round(sum(rewards) / len(rewards), 4)))\n",
    "    # Reset the environment\n",
    "    env = Environment()\n",
    "    state, reward, done = env.step(ACTION_GO)\n",
    "    step = 0\n",
    "    total_rewards = 0\n",
    "    \n",
    "    while not done:\n",
    "        action = random.randint(0, 1)\n",
    "\n",
    "        # Take the action (a) and observe the outcome state(s') and reward (r)\n",
    "        new_state, reward, done = env.step(action)\n",
    "        total_rewards += reward\n",
    "        \n",
    "    # Reduce epsilon (because we need less and less exploration)\n",
    "    RANDOM_REWARDS.append(total_rewards)\n",
    "    \n",
    "print (\"Score over time: \" +  str(sum(RANDOM_REWARDS)/total_episodes))\n",
    "\n",
    "# Plot learning.\n",
    "pd.Series(RANDOM_REWARDS).expanding().mean().plot()"
   ]
  },
  {
   "cell_type": "markdown",
   "metadata": {
    "id": "vojZhIs5AUVm"
   },
   "source": [
    "# Approach 1: Q Learning"
   ]
  },
  {
   "cell_type": "code",
   "execution_count": 175,
   "metadata": {
    "id": "RyeJNfbmAXND"
   },
   "outputs": [],
   "source": [
    "# Initialize hyperparameters.\n",
    "\n",
    "total_episodes = 100000     # Total episodes\n",
    "learning_rate = 0.7          # Learning rate\n",
    "gamma = 0.95                 # Discounting rate\n",
    "\n",
    "# Exploration parameters\n",
    "epsilon = 1.0                 # Exploration rate\n",
    "max_epsilon = 1.0             # Exploration probability at start\n",
    "min_epsilon = 0.01            # Minimum exploration probability \n",
    "decay_rate = 0.005            # Exponential decay rate for exploration prob"
   ]
  },
  {
   "cell_type": "code",
   "execution_count": 179,
   "metadata": {
    "colab": {
     "base_uri": "https://localhost:8080/",
     "height": 486
    },
    "id": "SMTNm9rtA7lP",
    "outputId": "bc5b289f-31f9-4401-ce43-68c13ccc2ee0"
   },
   "outputs": [
    {
     "name": "stdout",
     "output_type": "stream",
     "text": [
      "Progress: 0.1 (0.0009)\n",
      "Progress: 0.2 (0.0027)\n",
      "Progress: 0.3 (-0.0019)\n",
      "Progress: 0.4 (-0.0028)\n",
      "Progress: 0.5 (-0.0023)\n",
      "Progress: 0.6 (-0.0037)\n",
      "Progress: 0.7 (-0.004)\n",
      "Progress: 0.8 (-0.0039)\n",
      "Progress: 0.9 (-0.0028)\n",
      "Progress: 1.0 (-0.0024)\n",
      "Score over time: -0.0024\n",
      "CPU times: user 1min 13s, sys: 367 ms, total: 1min 13s\n",
      "Wall time: 1min 13s\n"
     ]
    },
    {
     "data": {
      "image/png": "[encoded data removed]",
      "text/plain": [
       "<Figure size 432x288 with 1 Axes>"
      ]
     },
     "metadata": {
      "needs_background": "light",
      "tags": []
     },
     "output_type": "display_data"
    }
   ],
   "source": [
    "%%time\n",
    "\n",
    "def get_hash_key(state):\n",
    "  return tuple(state)\n",
    "\n",
    "# List of rewards\n",
    "rewards = []\n",
    "q_map  = {}\n",
    "\n",
    "# 2 For life or until learning is stopped\n",
    "for episode in range(1, total_episodes+ 1):\n",
    "    if (episode % 10000) == 0:\n",
    "        print(\"Progress: {} ({})\".format(round((episode + 0.0)/total_episodes, 4),\n",
    "                                         round(sum(rewards) / len(rewards), 4)))\n",
    "    # Reset the environment\n",
    "    env = Environment()\n",
    "    state, reward, done = env.step(ACTION_GO)\n",
    "    step = 0\n",
    "    total_rewards = 0\n",
    "    while not done:\n",
    "        exp_tradeoff = random.uniform(0, 1)\n",
    "        explore = exp_tradeoff <= epsilon\n",
    "\n",
    "        state_h = get_hash_key(state)\n",
    "        if state_h not in q_map:\n",
    "          q_map[state_h] = [0.0, 0.0]\n",
    "\n",
    "        if explore:\n",
    "          # Choose a random action.\n",
    "          action = random.randint(0, 1)\n",
    "        else:\n",
    "          action = np.argmax(q_map[state_h])\n",
    "\n",
    "        # Take the action (a) and observe the outcome state(s') and reward (r)\n",
    "        new_state, reward, done = env.step(action)\n",
    "        new_state_h = get_hash_key(new_state)\n",
    "\n",
    "        # Update Q(s,a):= Q(s,a) + lr [R(s,a) + gamma * max Q(s',a') - Q(s,a)]\n",
    "        # qtable[new_state,:] : all the actions we can take from new state\n",
    "        if new_state_h not in q_map:\n",
    "          q_map[new_state_h] = [0.0, 0.0]\n",
    "\n",
    "        q_map[state_h][action] = q_map[state_h][action] + learning_rate * (\n",
    "            reward + gamma * np.max(q_map[new_state_h]) - q_map[state_h][action])\n",
    "        \n",
    "        total_rewards += reward\n",
    "        \n",
    "        # Our new state is state\n",
    "        state = new_state\n",
    "        \n",
    "    # Reduce epsilon (because we need less and less exploration)\n",
    "    epsilon = min_epsilon + (max_epsilon - min_epsilon)*np.exp(-decay_rate*episode) \n",
    "    rewards.append(total_rewards)\n",
    "    \n",
    "print (\"Score over time: \" +  str(sum(rewards)/total_episodes))\n",
    "\n",
    "# Plot learning.\n",
    "Q_LEARNING_REWARDS = rewards\n",
    "pd.Series(Q_LEARNING_REWARDS).expanding().mean().plot()"
   ]
  },
  {
   "cell_type": "markdown",
   "metadata": {
    "id": "_x6UX3XRZQYs"
   },
   "source": [
    "# Approach 2: SARSA(0)"
   ]
  },
  {
   "cell_type": "code",
   "execution_count": 30,
   "metadata": {
    "id": "S6mzTHOFYK9p"
   },
   "outputs": [],
   "source": [
    "# Initialize hyperparameters.\n",
    "\n",
    "total_episodes = 1000000     # Total episodes\n",
    "gamma = 0.85                 # Discounting rate\n",
    "alpha = .8"
   ]
  },
  {
   "cell_type": "code",
   "execution_count": 31,
   "metadata": {
    "colab": {
     "base_uri": "https://localhost:8080/",
     "height": 499
    },
    "id": "aZqzFWqDXVUJ",
    "outputId": "28051555-b6cc-415f-81b4-daf15e5d4a73"
   },
   "outputs": [
    {
     "name": "stdout",
     "output_type": "stream",
     "text": [
      "Progress: 0.1 (-0.002)\n",
      "Progress: 0.2 (0.0003)\n",
      "Progress: 0.3 (0.0017)\n",
      "Progress: 0.4 (0.0026)\n",
      "Progress: 0.5 (0.0014)\n",
      "Progress: 0.6 (0.0024)\n",
      "Progress: 0.7 (0.0019)\n",
      "Progress: 0.8 (0.0014)\n",
      "Progress: 0.9 (0.0012)\n",
      "Progress: 1.0 (0.0004)\n",
      "Score over time: 0.000356\n",
      "CPU times: user 41.4 s, sys: 43.1 ms, total: 41.5 s\n",
      "Wall time: 41.5 s\n"
     ]
    },
    {
     "data": {
      "image/png": "[encoded data removed]",
      "text/plain": [
       "<Figure size 432x288 with 1 Axes>"
      ]
     },
     "metadata": {
      "needs_background": "light",
      "tags": []
     },
     "output_type": "display_data"
    }
   ],
   "source": [
    "%%time\n",
    "\n",
    "# Initialize Q(s, a) arbitrarily.\n",
    "Q = {}\n",
    "for i in range(0, 27):\n",
    "  for j in range(0, 27):\n",
    "    #Q[(i, j)] = [random.uniform(), random.uniform()]\n",
    "    Q[(i, j)] = [0., 0.]\n",
    "\n",
    "# Update the terminal states.\n",
    "Q[(0, 26)] = 0\n",
    "Q[(26, 0)] = 0\n",
    "\n",
    "def choose_action(state, map=Q):\n",
    "  exp_tradeoff = random.uniform(0, 1)\n",
    "  explore = exp_tradeoff <= epsilon\n",
    "  if explore:\n",
    "    action = random.randint(0, 1)\n",
    "  else:\n",
    "    action = np.argmax(Q[tuple(state)])\n",
    "\n",
    "  return action\n",
    "\n",
    "rewards = []\n",
    "for episode in range(1, total_episodes+ 1):\n",
    "#for episode in range(1, 2):\n",
    "    if (episode % 100000) == 0:\n",
    "        print(\"Progress: {} ({})\".format(round((episode + 0.0)/total_episodes, 4),\n",
    "                                         round(sum(rewards) / len(rewards), 4)))\n",
    "    \n",
    "    env = Environment()\n",
    "    done = False\n",
    "\n",
    "    # Initialize S.\n",
    "    state = [0, 0]\n",
    "    step = 0\n",
    "    total_rewards = 0\n",
    "\n",
    "    # Choose A from S using policy derived from Q.\n",
    "    action = choose_action(state)\n",
    "    #print(\"Initial action: {}\".format(action))\n",
    "    while not done:\n",
    "      # Take action A, observe R, S'.\n",
    "      state_p, reward, done = env.step(action)\n",
    "      #print(\"New state: {}\".format(state_p))\n",
    "      # Choose A' from S'.\n",
    "      action_p = choose_action(state_p)\n",
    "      #print(\"New action: {}\".format(action_p))\n",
    "\n",
    "      # Update Q.\n",
    "      init_q = Q[tuple(state)][action]\n",
    "      td_error = reward + gamma * Q[tuple(state_p)][action_p] - init_q\n",
    "      Q[tuple(state)][action] = init_q + alpha * td_error\n",
    "      #print(Q[tuple(state)][action])\n",
    "\n",
    "      # S <- S', A <- A'\n",
    "      state = state_p\n",
    "      action = action_p\n",
    "      \n",
    "      total_rewards += reward\n",
    "\n",
    "    rewards.append(total_rewards)\n",
    "    \n",
    "print (\"Score over time: \" +  str(sum(rewards)/total_episodes))\n",
    "\n",
    "# Plot learning.\n",
    "SARSA_REWARDS = rewards\n",
    "pd.Series(SARSA_REWARDS).expanding().mean().plot()"
   ]
  },
  {
   "cell_type": "markdown",
   "metadata": {
    "id": "593atwfHbisH"
   },
   "source": [
    "# Approach 3: SARSA($\\lambda$)"
   ]
  },
  {
   "cell_type": "code",
   "execution_count": 51,
   "metadata": {
    "id": "kSVxMI1PblAG"
   },
   "outputs": [],
   "source": [
    "# Initialize hyperparameters.\n",
    "\n",
    "total_episodes = 1000000     # Total episodes\n",
    "gamma = 0.8           # Discounting factor.\n",
    "lambd = .8\n",
    "alpha = .8             # Learning rate."
   ]
  },
  {
   "cell_type": "code",
   "execution_count": 52,
   "metadata": {
    "colab": {
     "base_uri": "https://localhost:8080/",
     "height": 1000
    },
    "id": "_KgqZ43DbldB",
    "outputId": "fbc4c334-747b-4cac-ec2d-6f2a8a7a507c"
   },
   "outputs": [
    {
     "name": "stdout",
     "output_type": "stream",
     "text": [
      "Progress: 0.01 (-0.0029)\n",
      "Progress: 0.02 (0.0099)\n",
      "Progress: 0.03 (0.0082)\n",
      "Progress: 0.04 (0.005)\n",
      "Progress: 0.05 (0.0068)\n",
      "Progress: 0.06 (0.0064)\n",
      "Progress: 0.07 (0.0056)\n",
      "Progress: 0.08 (0.0045)\n",
      "Progress: 0.09 (0.0011)\n",
      "Progress: 0.1 (0.0013)\n",
      "Progress: 0.11 (-0.0003)\n",
      "Progress: 0.12 (-0.001)\n",
      "Progress: 0.13 (-0.0009)\n",
      "Progress: 0.14 (-0.0005)\n",
      "Progress: 0.15 (-0.0022)\n",
      "Progress: 0.16 (-0.0021)\n",
      "Progress: 0.17 (-0.0016)\n",
      "Progress: 0.18 (-0.0009)\n",
      "Progress: 0.19 (-0.0017)\n",
      "Progress: 0.2 (-0.0013)\n",
      "Progress: 0.21 (-0.0006)\n",
      "Progress: 0.22 (-0.0001)\n",
      "Progress: 0.23 (-0.0002)\n",
      "Progress: 0.24 (0.0004)\n",
      "Progress: 0.25 (0.0005)\n",
      "Progress: 0.26 (-0.0002)\n",
      "Progress: 0.27 (-0.0003)\n",
      "Progress: 0.28 (-0.0006)\n",
      "Progress: 0.29 (-0.0002)\n",
      "Progress: 0.3 (-0.0008)\n",
      "Progress: 0.31 (-0.0002)\n",
      "Progress: 0.32 (0.0005)\n",
      "Progress: 0.33 (0.0002)\n",
      "Progress: 0.34 (0.0006)\n",
      "Progress: 0.35 (0.0006)\n",
      "Progress: 0.36 (0.0004)\n",
      "Progress: 0.37 (0.0005)\n",
      "Progress: 0.38 (0.0005)\n",
      "Progress: 0.39 (0.0005)\n",
      "Progress: 0.4 (0.0007)\n",
      "Progress: 0.41 (0.0005)\n",
      "Progress: 0.42 (0.0003)\n",
      "Progress: 0.43 (0.0002)\n",
      "Progress: 0.44 (0.0006)\n",
      "Progress: 0.45 (0.0005)\n",
      "Progress: 0.46 (0.0005)\n",
      "Progress: 0.47 (0.0007)\n",
      "Progress: 0.48 (0.0011)\n",
      "Progress: 0.49 (0.0013)\n",
      "Progress: 0.5 (0.0014)\n",
      "Progress: 0.51 (0.0013)\n",
      "Progress: 0.52 (0.0013)\n",
      "Progress: 0.53 (0.0013)\n",
      "Progress: 0.54 (0.0014)\n",
      "Progress: 0.55 (0.0014)\n",
      "Progress: 0.56 (0.0013)\n",
      "Progress: 0.57 (0.001)\n",
      "Progress: 0.58 (0.0007)\n",
      "Progress: 0.59 (0.0005)\n",
      "Progress: 0.6 (0.0003)\n",
      "Progress: 0.61 (0.0003)\n",
      "Progress: 0.62 (0.0002)\n",
      "Progress: 0.63 (0.0001)\n",
      "Progress: 0.64 (0.0001)\n",
      "Progress: 0.65 (0.0002)\n",
      "Progress: 0.66 (0.0004)\n",
      "Progress: 0.67 (0.0004)\n",
      "Progress: 0.68 (0.0004)\n",
      "Progress: 0.69 (0.0003)\n",
      "Progress: 0.7 (-0.0)\n",
      "Progress: 0.71 (0.0)\n",
      "Progress: 0.72 (-0.0003)\n",
      "Progress: 0.73 (-0.0003)\n",
      "Progress: 0.74 (-0.0005)\n",
      "Progress: 0.75 (-0.0005)\n",
      "Progress: 0.76 (-0.0005)\n",
      "Progress: 0.77 (-0.0006)\n",
      "Progress: 0.78 (-0.0004)\n",
      "Progress: 0.79 (-0.0006)\n",
      "Progress: 0.8 (-0.0007)\n",
      "Progress: 0.81 (-0.0005)\n",
      "Progress: 0.82 (-0.0007)\n",
      "Progress: 0.83 (-0.0006)\n",
      "Progress: 0.84 (-0.0007)\n",
      "Progress: 0.85 (-0.0006)\n",
      "Progress: 0.86 (-0.0007)\n",
      "Progress: 0.87 (-0.0005)\n",
      "Progress: 0.88 (-0.0004)\n",
      "Progress: 0.89 (-0.0001)\n",
      "Progress: 0.9 (-0.0004)\n",
      "Progress: 0.91 (-0.0003)\n",
      "Progress: 0.92 (-0.0004)\n",
      "Progress: 0.93 (-0.0004)\n",
      "Progress: 0.94 (-0.0005)\n",
      "Progress: 0.95 (-0.0006)\n",
      "Progress: 0.96 (-0.0006)\n",
      "Progress: 0.97 (-0.0006)\n",
      "Progress: 0.98 (-0.0008)\n",
      "Progress: 0.99 (-0.0009)\n",
      "Progress: 1.0 (-0.0009)\n",
      "Score over time: -0.000946\n",
      "CPU times: user 44min 54s, sys: 697 ms, total: 44min 54s\n",
      "Wall time: 44min 57s\n"
     ]
    },
    {
     "data": {
      "image/png": "[encoded data removed]",
      "text/plain": [
       "<Figure size 432x288 with 1 Axes>"
      ]
     },
     "metadata": {
      "needs_background": "light",
      "tags": []
     },
     "output_type": "display_data"
    }
   ],
   "source": [
    "%%time\n",
    "\n",
    "def get_states_iter():\n",
    "  for i in range(0, 27):\n",
    "    for j in range(0, 27):\n",
    "      yield (i, j)\n",
    "\n",
    "# Initialize Q(s, a) arbitrarily.\n",
    "Q = {}\n",
    "E = {}\n",
    "\n",
    "states_iter = get_states_iter()\n",
    "for s in states_iter:\n",
    "  Q[s] = [0., 0.]\n",
    "\n",
    "def choose_action(state, map=Q):\n",
    "  exp_tradeoff = random.uniform(0, 1)\n",
    "  explore = exp_tradeoff <= epsilon\n",
    "  if explore:\n",
    "    action = random.randint(0, 1)\n",
    "  else:\n",
    "    action = np.argmax(Q[tuple(state)])\n",
    "\n",
    "  return action\n",
    "\n",
    "rewards = []\n",
    "for episode in range(1, total_episodes+ 1):\n",
    "  if (episode % 10000) == 0:\n",
    "      print(\"Progress: {} ({})\".format(round((episode + 0.0)/total_episodes, 4),\n",
    "                                        round(sum(rewards) / len(rewards), 4)))\n",
    "  \n",
    "  env = Environment()\n",
    "  done = False\n",
    "     \n",
    "  states_iter = get_states_iter()\n",
    "  for s in states_iter:\n",
    "    E[s] = [0., 0.]\n",
    "\n",
    "  # Initialize S and A.\n",
    "  state = [0, 0]\n",
    "  action = choose_action(state)\n",
    "  step = 0\n",
    "  total_rewards = 0\n",
    "\n",
    "  #print(\"Initial action: {}\".format(action))\n",
    "  while not done:\n",
    "    # Take action A, observe R, S'.\n",
    "    state_p, reward, done = env.step(action)\n",
    "    \n",
    "    # Choose A' from S'.\n",
    "    action_p = choose_action(state_p)\n",
    "\n",
    "    # Calculate the TD error.\n",
    "    init_q = Q[tuple(state)][action]\n",
    "    td_error = reward + gamma * Q[tuple(state_p)][action_p] - init_q\n",
    "\n",
    "    # Increment E.\n",
    "    E[tuple(state)][action] += 1\n",
    "\n",
    "    # For all states and actions:\n",
    "    states_iter = get_states_iter()\n",
    "    for s in states_iter:\n",
    "      for a in [0, 1]:\n",
    "        Q[s][a] = Q[s][a] + alpha * td_error * E[s][a]\n",
    "        E[s][a] = gamma * lambd * E[s][a]\n",
    "    \n",
    "    # S <- S', A <- A'\n",
    "    state = state_p\n",
    "    action = action_p\n",
    "    \n",
    "    total_rewards += reward\n",
    "\n",
    "  rewards.append(total_rewards)\n",
    "  \n",
    "print (\"Score over time: \" +  str(sum(rewards)/total_episodes))\n",
    "\n",
    "# Plot learning.\n",
    "LSARSA_REWARDS = rewards\n",
    "pd.Series(LSARSA_REWARDS).expanding().mean().plot()"
   ]
  },
  {
   "cell_type": "markdown",
   "metadata": {
    "id": "JNn3imP5GD7i"
   },
   "source": [
    "# Test it out!"
   ]
  },
  {
   "cell_type": "code",
   "execution_count": 57,
   "metadata": {
    "colab": {
     "base_uri": "https://localhost:8080/"
    },
    "id": "wZrrrT4-GCcZ",
    "outputId": "c467b583-b799-40d5-eea1-3fd91b806c94"
   },
   "outputs": [
    {
     "name": "stdout",
     "output_type": "stream",
     "text": [
      "Payoff: 38\n"
     ]
    }
   ],
   "source": [
    "N_TRIALS = 10000\n",
    "trial_rewards = []\n",
    "\n",
    "def get_random_action(state):\n",
    "  return random.randint(0, 1)\n",
    "\n",
    "def get_q_action(state):\n",
    "  return np.argmax(q_map[tuple(state)])\n",
    "\n",
    "def get_sarsal_action(state):\n",
    "  return np.argmax(Q[tuple(state)])\n",
    "\n",
    "for episode in range(N_TRIALS):\n",
    "    env = Environment()\n",
    "    state, _, done = env.step(ACTION_GO)\n",
    "\n",
    "    while (not done):\n",
    "        # Take the action (index) that have the maximum expected future reward given that state\n",
    "        # action = get_random_action(state)\n",
    "        # action = get_q_action(state)\n",
    "        action = get_sarsal_action(state)\n",
    "\n",
    "        new_state, reward, done = env.step(action)\n",
    "        \n",
    "        if done:\n",
    "            # We print the number of step it took.\n",
    "    #        print(\"\\tEpisode {}: {}\".format(episode, reward))\n",
    "            trial_rewards.append(reward)\n",
    "            break\n",
    "\n",
    "        state = new_state\n",
    "\n",
    "print(\"Payoff: {}\".format(sum(trial_rewards)))"
   ]
  },
  {
   "cell_type": "markdown",
   "metadata": {
    "id": "0dlv7WWHCu2B"
   },
   "source": [
    "# Conclusions\n",
    "\n",
    "Turns out, there is no way to beat random performance."
   ]
  }
 ],
 "metadata": {
  "colab": {
   "authorship_tag": "ABX9TyMhDajAFKRPgbpszfSgbsDT",
   "collapsed_sections": [],
   "include_colab_link": true,
   "name": "card_game.ipynb",
   "provenance": []
  },
  "kernelspec": {
   "display_name": "Python 3",
   "language": "python",
   "name": "python3"
  },
  "language_info": {
   "codemirror_mode": {
    "name": "ipython",
    "version": 3
   },
   "file_extension": ".py",
   "mimetype": "text/x-python",
   "name": "python",
   "nbconvert_exporter": "python",
   "pygments_lexer": "ipython3",
   "version": "3.8.2"
  }
 },
 "nbformat": 4,
 "nbformat_minor": 4
}
