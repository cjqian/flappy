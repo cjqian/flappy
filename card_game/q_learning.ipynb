{
  "nbformat": 4,
  "nbformat_minor": 0,
  "metadata": {
    "colab": {
      "name": "q_learning.ipynb",
      "provenance": [],
      "authorship_tag": "ABX9TyOkDA3uiF2lOBChsWRPxs4M",
      "include_colab_link": true
    },
    "kernelspec": {
      "name": "python3",
      "display_name": "Python 3"
    }
  },
  "cells": [
    {
      "cell_type": "markdown",
      "metadata": {
        "id": "view-in-github",
        "colab_type": "text"
      },
      "source": [
        "<a href=\"https://colab.research.google.com/github/cjqian/flappy/blob/master/card_game/q_learning.ipynb\" target=\"_parent\"><img src=\"https://colab.research.google.com/assets/colab-badge.svg\" alt=\"Open In Colab\"/></a>"
      ]
    },
    {
      "cell_type": "markdown",
      "metadata": {
        "id": "Pz71bjAs6Mrm"
      },
      "source": [
        "# The card game\n",
        "\n",
        "Let's wager on a card game. In front of you is a shuffled deck of 52 cards face-down. Half are red, half are black. Once you saw \"halt\", I'll flip over the next card and end the game. If the final card is red, you win \\$1. Otherwise, you lose \\$1. Let's play!"
      ]
    },
    {
      "cell_type": "code",
      "metadata": {
        "id": "9Rqretej6AQR"
      },
      "source": [
        "import numpy as np\n",
        "import pandas as pd\n",
        "import random"
      ],
      "execution_count": 14,
      "outputs": []
    },
    {
      "cell_type": "markdown",
      "metadata": {
        "id": "ux1Bss7q64I-"
      },
      "source": [
        "# Set up the game/environment."
      ]
    },
    {
      "cell_type": "code",
      "metadata": {
        "id": "ogu-bEjg7Iv5"
      },
      "source": [
        "# The actions are to stop or to continue.\n",
        "ACTION_GO = 0\n",
        "ACTION_STOP = 1\n",
        "\n",
        "# The observation is the entire history of the game thus far. [RED, BLACK...]\n",
        "CARD_RED = 0\n",
        "CARD_BLACK = 1\n",
        "\n",
        "DECK_SIZE = 52\n",
        "\n",
        "class Environment():\n",
        "  def __init__(self):\n",
        "    self._dealt_cards = []\n",
        "    \n",
        "    # Same number of red and black cards.\n",
        "    red_cards = [CARD_RED] * int(DECK_SIZE / 2)\n",
        "    black_cards = [CARD_BLACK] * int(DECK_SIZE / 2)\n",
        "    self._deck = red_cards + black_cards\n",
        "    random.shuffle(self._deck)\n",
        "\n",
        "  def step(self, action):\n",
        "    \"\"\"Returns reward, state, and whether the game is done.\"\"\"\n",
        "    done = False\n",
        "    if len(self._deck) == 1 or action == ACTION_STOP:\n",
        "      done = True\n",
        "      \n",
        "    card = self._deck.pop()\n",
        "    self._dealt_cards.append(card)\n",
        "\n",
        "    reward = 0\n",
        "\n",
        "  # The rewards are $1 if we win, -$1 if we lost,\n",
        "  # or $0 if the game has not ended.\n",
        "    if done:\n",
        "      reward = 1 if card == CARD_RED else -1\n",
        "    return (self._dealt_cards, reward, done)"
      ],
      "execution_count": 118,
      "outputs": []
    },
    {
      "cell_type": "markdown",
      "metadata": {
        "id": "PJFe0NSSOypZ"
      },
      "source": [
        "# Approach 0: Random Baseline"
      ]
    },
    {
      "cell_type": "code",
      "metadata": {
        "colab": {
          "base_uri": "https://localhost:8080/",
          "height": 384
        },
        "id": "ZHsRLxXlOz92",
        "outputId": "56f90dab-a710-4e34-f991-2f68e296c1ef"
      },
      "source": [
        "RANDOM_REWARDS = []\n",
        "\n",
        "for episode in range(1, total_episodes+ 1):\n",
        "    if (episode % 10000) == 0:\n",
        "        print(\"Progress: {} ({})\".format(round((episode + 0.0)/total_episodes, 4),\n",
        "                                         round(sum(rewards) / len(rewards), 4)))\n",
        "    # Reset the environment\n",
        "    env = Environment()\n",
        "    state, reward, done = env.step(ACTION_GO)\n",
        "    state_h = get_hash_key(state)\n",
        "    step = 0\n",
        "    total_rewards = 0\n",
        "    \n",
        "    while not done:\n",
        "        action = random.randint(0, 1)\n",
        "\n",
        "        # Take the action (a) and observe the outcome state(s') and reward (r)\n",
        "        new_state, reward, done = env.step(action)\n",
        "        new_state_h = get_hash_key(new_state)\n",
        "\n",
        "        total_rewards += reward\n",
        "        \n",
        "        # Our new state is state\n",
        "        state = new_state\n",
        "        \n",
        "    # Reduce epsilon (because we need less and less exploration)\n",
        "    RANDOM_REWARDS.append(total_rewards)\n",
        "    \n",
        "print (\"Score over time: \" +  str(sum(rewards)/total_episodes))\n",
        "\n",
        "# Plot learning.\n",
        "pd.Series(RANDOM_REWARDS).expanding().mean().plot()"
      ],
      "execution_count": 124,
      "outputs": [
        {
          "output_type": "stream",
          "text": [
            "Progress: 0.2 (0.0022)\n",
            "Progress: 0.4 (0.0022)\n",
            "Progress: 0.6 (0.0022)\n",
            "Progress: 0.8 (0.0022)\n",
            "Progress: 1.0 (0.0022)\n",
            "Score over time: 0.0044\n"
          ],
          "name": "stdout"
        },
        {
          "output_type": "execute_result",
          "data": {
            "text/plain": [
              "<matplotlib.axes._subplots.AxesSubplot at 0x7f1ddb4bf668>"
            ]
          },
          "metadata": {
            "tags": []
          },
          "execution_count": 124
        },
        {
          "output_type": "display_data",
          "data": {
            "image/png": "[encoded data removed]",
            "text/plain": [
              "<Figure size 432x288 with 1 Axes>"
            ]
          },
          "metadata": {
            "tags": [],
            "needs_background": "light"
          }
        }
      ]
    },
    {
      "cell_type": "markdown",
      "metadata": {
        "id": "vojZhIs5AUVm"
      },
      "source": [
        "# Approach 1: Q Learning"
      ]
    },
    {
      "cell_type": "code",
      "metadata": {
        "id": "RyeJNfbmAXND"
      },
      "source": [
        "# Initialize hyperparameters.\n",
        "\n",
        "total_episodes = 100000       # Total episodes\n",
        "learning_rate = 0.7          # Learning rate\n",
        "gamma = 0.95                 # Discounting rate\n",
        "\n",
        "# Exploration parameters\n",
        "epsilon = 1.0                 # Exploration rate\n",
        "max_epsilon = 1.0             # Exploration probability at start\n",
        "min_epsilon = 0.01            # Minimum exploration probability \n",
        "decay_rate = 0.005            # Exponential decay rate for exploration prob"
      ],
      "execution_count": 133,
      "outputs": []
    },
    {
      "cell_type": "code",
      "metadata": {
        "colab": {
          "base_uri": "https://localhost:8080/"
        },
        "id": "SMTNm9rtA7lP",
        "outputId": "21c4d295-b9fb-4e27-fe81-dda354f9fb99"
      },
      "source": [
        "%%time\n",
        "\n",
        "def get_hash_key(state):\n",
        "  return ''.join([str(x) for x in state])\n",
        "\n",
        "# List of rewards\n",
        "rewards = []\n",
        "q_map  = {}\n",
        "\n",
        "# 2 For life or until learning is stopped\n",
        "for episode in range(1, total_episodes+ 1):\n",
        "    if (episode % 10000) == 0:\n",
        "        print(\"Progress: {} ({})\".format(round((episode + 0.0)/total_episodes, 4),\n",
        "                                         round(sum(rewards) / len(rewards), 4)))\n",
        "    # Reset the environment\n",
        "    env = Environment()\n",
        "    state, reward, done = env.step(ACTION_GO)\n",
        "    state_h = get_hash_key(state)\n",
        "    step = 0\n",
        "    total_rewards = 0\n",
        "    \n",
        "    while not done:\n",
        "        exp_tradeoff = random.uniform(0, 1)\n",
        "        explore = exp_tradeoff <= epsilon\n",
        "\n",
        "        if state_h not in q_map:\n",
        "          q_map[state_h] = [0.0, 0.0]\n",
        "\n",
        "        if explore:\n",
        "          # Choose a random action.\n",
        "          action = random.randint(0, 1)\n",
        "        else:\n",
        "          action = np.argmax(q_map[state_h])\n",
        "\n",
        "        # Take the action (a) and observe the outcome state(s') and reward (r)\n",
        "        new_state, reward, done = env.step(action)\n",
        "        new_state_h = get_hash_key(new_state)\n",
        "\n",
        "        # Update Q(s,a):= Q(s,a) + lr [R(s,a) + gamma * max Q(s',a') - Q(s,a)]\n",
        "        # qtable[new_state,:] : all the actions we can take from new state\n",
        "        if new_state_h not in q_map:\n",
        "          q_map[new_state_h] = [0.0, 0.0]\n",
        "\n",
        "        q_map[state_h][action] = q_map[state_h][action] + learning_rate * (\n",
        "            reward + gamma * np.max(q_map[new_state_h]) - q_map[state_h][action])\n",
        "        \n",
        "        total_rewards += reward\n",
        "        \n",
        "        # Our new state is state\n",
        "        state = new_state\n",
        "        \n",
        "    # Reduce epsilon (because we need less and less exploration)\n",
        "    epsilon = min_epsilon + (max_epsilon - min_epsilon)*np.exp(-decay_rate*episode) \n",
        "    rewards.append(total_rewards)\n",
        "    \n",
        "print (\"Score over time: \" +  str(sum(rewards)/total_episodes))\n",
        "\n",
        "# Plot learning.\n",
        "Q_LEARNING_REWARDS = rewards\n",
        "pd.Series(Q_LEARNING_REWARDS).expanding().mean().plot()"
      ],
      "execution_count": null,
      "outputs": [
        {
          "output_type": "stream",
          "text": [
            "Progress: 0.1 (0.0031)\n",
            "Progress: 0.2 (0.0017)\n",
            "Progress: 0.3 (0.003)\n",
            "Progress: 0.4 (-0.0003)\n",
            "Progress: 0.5 (-0.0029)\n",
            "Progress: 0.6 (-0.0034)\n",
            "Progress: 0.7 (-0.0032)\n"
          ],
          "name": "stdout"
        }
      ]
    },
    {
      "cell_type": "markdown",
      "metadata": {
        "id": "JNn3imP5GD7i"
      },
      "source": [
        "# Test it out!\n",
        "\n",
        "Hypothesis: q-learning isn't great for this; there is too large of a state space."
      ]
    },
    {
      "cell_type": "code",
      "metadata": {
        "colab": {
          "base_uri": "https://localhost:8080/",
          "height": 409
        },
        "id": "wZrrrT4-GCcZ",
        "outputId": "4968f95f-b5cd-4478-d1f6-0165bcc36a05"
      },
      "source": [
        "N_TRIALS = 100\n",
        "trial_rewards = []\n",
        "\n",
        "for episode in range(N_TRIALS):\n",
        "    env = Environment()\n",
        "    state, _, done = env.step(ACTION_GO)\n",
        "\n",
        "    while (not done):\n",
        "        state_h = get_hash_key(state)\n",
        "        # Take the action (index) that have the maximum expected future reward given that state\n",
        "        if state_h in q_map: \n",
        "          action = np.argmax(q_map[state_h])\n",
        "        else:\n",
        "          action = ACTION_GO \n",
        "\n",
        "        new_state, reward, done = env.step(action)\n",
        "        \n",
        "        if done:\n",
        "            # We print the number of step it took.\n",
        "    #        print(\"\\tEpisode {}: {}\".format(episode, reward))\n",
        "            trial_rewards.append(reward)\n",
        "            break\n",
        "\n",
        "        state = new_state\n",
        "\n",
        "print(\"Payoff: {}\".format(sum(trial_rewards)))"
      ],
      "execution_count": 117,
      "outputs": [
        {
          "output_type": "error",
          "ename": "KeyboardInterrupt",
          "evalue": "ignored",
          "traceback": [
            "\u001b[0;31m---------------------------------------------------------------------------\u001b[0m",
            "\u001b[0;31mKeyboardInterrupt\u001b[0m                         Traceback (most recent call last)",
            "\u001b[0;32m<ipython-input-117-ec927a7d0958>\u001b[0m in \u001b[0;36m<module>\u001b[0;34m()\u001b[0m\n\u001b[1;32m     10\u001b[0m         \u001b[0;31m# Take the action (index) that have the maximum expected future reward given that state\u001b[0m\u001b[0;34m\u001b[0m\u001b[0;34m\u001b[0m\u001b[0;34m\u001b[0m\u001b[0m\n\u001b[1;32m     11\u001b[0m         \u001b[0;32mif\u001b[0m \u001b[0mstate_h\u001b[0m \u001b[0;32min\u001b[0m \u001b[0mq_map\u001b[0m\u001b[0;34m:\u001b[0m\u001b[0;34m\u001b[0m\u001b[0;34m\u001b[0m\u001b[0m\n\u001b[0;32m---> 12\u001b[0;31m           \u001b[0maction\u001b[0m \u001b[0;34m=\u001b[0m \u001b[0mnp\u001b[0m\u001b[0;34m.\u001b[0m\u001b[0margmax\u001b[0m\u001b[0;34m(\u001b[0m\u001b[0mq_map\u001b[0m\u001b[0;34m[\u001b[0m\u001b[0mstate_h\u001b[0m\u001b[0;34m]\u001b[0m\u001b[0;34m)\u001b[0m\u001b[0;34m\u001b[0m\u001b[0;34m\u001b[0m\u001b[0m\n\u001b[0m\u001b[1;32m     13\u001b[0m         \u001b[0;32melse\u001b[0m\u001b[0;34m:\u001b[0m\u001b[0;34m\u001b[0m\u001b[0;34m\u001b[0m\u001b[0m\n\u001b[1;32m     14\u001b[0m           \u001b[0maction\u001b[0m \u001b[0;34m=\u001b[0m \u001b[0mACTION_GO\u001b[0m\u001b[0;34m\u001b[0m\u001b[0;34m\u001b[0m\u001b[0m\n",
            "\u001b[0;32m<__array_function__ internals>\u001b[0m in \u001b[0;36margmax\u001b[0;34m(*args, **kwargs)\u001b[0m\n",
            "\u001b[0;32m/usr/local/lib/python3.6/dist-packages/numpy/core/fromnumeric.py\u001b[0m in \u001b[0;36margmax\u001b[0;34m(a, axis, out)\u001b[0m\n\u001b[1;32m   1184\u001b[0m \u001b[0;34m\u001b[0m\u001b[0m\n\u001b[1;32m   1185\u001b[0m     \"\"\"\n\u001b[0;32m-> 1186\u001b[0;31m     \u001b[0;32mreturn\u001b[0m \u001b[0m_wrapfunc\u001b[0m\u001b[0;34m(\u001b[0m\u001b[0ma\u001b[0m\u001b[0;34m,\u001b[0m \u001b[0;34m'argmax'\u001b[0m\u001b[0;34m,\u001b[0m \u001b[0maxis\u001b[0m\u001b[0;34m=\u001b[0m\u001b[0maxis\u001b[0m\u001b[0;34m,\u001b[0m \u001b[0mout\u001b[0m\u001b[0;34m=\u001b[0m\u001b[0mout\u001b[0m\u001b[0;34m)\u001b[0m\u001b[0;34m\u001b[0m\u001b[0;34m\u001b[0m\u001b[0m\n\u001b[0m\u001b[1;32m   1187\u001b[0m \u001b[0;34m\u001b[0m\u001b[0m\n\u001b[1;32m   1188\u001b[0m \u001b[0;34m\u001b[0m\u001b[0m\n",
            "\u001b[0;32m/usr/local/lib/python3.6/dist-packages/numpy/core/fromnumeric.py\u001b[0m in \u001b[0;36m_wrapfunc\u001b[0;34m(obj, method, *args, **kwds)\u001b[0m\n\u001b[1;32m     56\u001b[0m     \u001b[0mbound\u001b[0m \u001b[0;34m=\u001b[0m \u001b[0mgetattr\u001b[0m\u001b[0;34m(\u001b[0m\u001b[0mobj\u001b[0m\u001b[0;34m,\u001b[0m \u001b[0mmethod\u001b[0m\u001b[0;34m,\u001b[0m \u001b[0;32mNone\u001b[0m\u001b[0;34m)\u001b[0m\u001b[0;34m\u001b[0m\u001b[0;34m\u001b[0m\u001b[0m\n\u001b[1;32m     57\u001b[0m     \u001b[0;32mif\u001b[0m \u001b[0mbound\u001b[0m \u001b[0;32mis\u001b[0m \u001b[0;32mNone\u001b[0m\u001b[0;34m:\u001b[0m\u001b[0;34m\u001b[0m\u001b[0;34m\u001b[0m\u001b[0m\n\u001b[0;32m---> 58\u001b[0;31m         \u001b[0;32mreturn\u001b[0m \u001b[0m_wrapit\u001b[0m\u001b[0;34m(\u001b[0m\u001b[0mobj\u001b[0m\u001b[0;34m,\u001b[0m \u001b[0mmethod\u001b[0m\u001b[0;34m,\u001b[0m \u001b[0;34m*\u001b[0m\u001b[0margs\u001b[0m\u001b[0;34m,\u001b[0m \u001b[0;34m**\u001b[0m\u001b[0mkwds\u001b[0m\u001b[0;34m)\u001b[0m\u001b[0;34m\u001b[0m\u001b[0;34m\u001b[0m\u001b[0m\n\u001b[0m\u001b[1;32m     59\u001b[0m \u001b[0;34m\u001b[0m\u001b[0m\n\u001b[1;32m     60\u001b[0m     \u001b[0;32mtry\u001b[0m\u001b[0;34m:\u001b[0m\u001b[0;34m\u001b[0m\u001b[0;34m\u001b[0m\u001b[0m\n",
            "\u001b[0;32m/usr/local/lib/python3.6/dist-packages/numpy/core/fromnumeric.py\u001b[0m in \u001b[0;36m_wrapit\u001b[0;34m(obj, method, *args, **kwds)\u001b[0m\n\u001b[1;32m     45\u001b[0m     \u001b[0;32mexcept\u001b[0m \u001b[0mAttributeError\u001b[0m\u001b[0;34m:\u001b[0m\u001b[0;34m\u001b[0m\u001b[0;34m\u001b[0m\u001b[0m\n\u001b[1;32m     46\u001b[0m         \u001b[0mwrap\u001b[0m \u001b[0;34m=\u001b[0m \u001b[0;32mNone\u001b[0m\u001b[0;34m\u001b[0m\u001b[0;34m\u001b[0m\u001b[0m\n\u001b[0;32m---> 47\u001b[0;31m     \u001b[0mresult\u001b[0m \u001b[0;34m=\u001b[0m \u001b[0mgetattr\u001b[0m\u001b[0;34m(\u001b[0m\u001b[0masarray\u001b[0m\u001b[0;34m(\u001b[0m\u001b[0mobj\u001b[0m\u001b[0;34m)\u001b[0m\u001b[0;34m,\u001b[0m \u001b[0mmethod\u001b[0m\u001b[0;34m)\u001b[0m\u001b[0;34m(\u001b[0m\u001b[0;34m*\u001b[0m\u001b[0margs\u001b[0m\u001b[0;34m,\u001b[0m \u001b[0;34m**\u001b[0m\u001b[0mkwds\u001b[0m\u001b[0;34m)\u001b[0m\u001b[0;34m\u001b[0m\u001b[0;34m\u001b[0m\u001b[0m\n\u001b[0m\u001b[1;32m     48\u001b[0m     \u001b[0;32mif\u001b[0m \u001b[0mwrap\u001b[0m\u001b[0;34m:\u001b[0m\u001b[0;34m\u001b[0m\u001b[0;34m\u001b[0m\u001b[0m\n\u001b[1;32m     49\u001b[0m         \u001b[0;32mif\u001b[0m \u001b[0;32mnot\u001b[0m \u001b[0misinstance\u001b[0m\u001b[0;34m(\u001b[0m\u001b[0mresult\u001b[0m\u001b[0;34m,\u001b[0m \u001b[0mmu\u001b[0m\u001b[0;34m.\u001b[0m\u001b[0mndarray\u001b[0m\u001b[0;34m)\u001b[0m\u001b[0;34m:\u001b[0m\u001b[0;34m\u001b[0m\u001b[0;34m\u001b[0m\u001b[0m\n",
            "\u001b[0;31mKeyboardInterrupt\u001b[0m: "
          ]
        }
      ]
    }
  ]
}