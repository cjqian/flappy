{
 "cells": [
  {
   "cell_type": "code",
   "execution_count": 1,
   "metadata": {},
   "outputs": [],
   "source": [
    "import numpy as np\n",
    "import gym\n",
    "import random"
   ]
  },
  {
   "cell_type": "code",
   "execution_count": 22,
   "metadata": {},
   "outputs": [
    {
     "name": "stdout",
     "output_type": "stream",
     "text": [
      "+---------+\n",
      "|R: | : :G|\n",
      "| : | : : |\n",
      "| : : : : |\n",
      "| | : | : |\n",
      "|\u001b[35mY\u001b[0m|\u001b[43m \u001b[0m: |\u001b[34;1mB\u001b[0m: |\n",
      "+---------+\n",
      "\n",
      "[[0. 0. 0. 0. 0. 0.]\n",
      " [0. 0. 0. 0. 0. 0.]\n",
      " [0. 0. 0. 0. 0. 0.]\n",
      " ...\n",
      " [0. 0. 0. 0. 0. 0.]\n",
      " [0. 0. 0. 0. 0. 0.]\n",
      " [0. 0. 0. 0. 0. 0.]]\n"
     ]
    }
   ],
   "source": [
    "# Setup environment\n",
    "env = gym.make(\"Taxi-v3\")\n",
    "env.render()\n",
    "\n",
    "action_size = env.action_space.n\n",
    "state_size = env.observation_space.n\n",
    "\n",
    "qtable = np.zeros((state_size, action_size))\n",
    "print(qtable)"
   ]
  },
  {
   "cell_type": "code",
   "execution_count": 23,
   "metadata": {},
   "outputs": [],
   "source": [
    "# Create hyperparameters\n",
    "total_episodes = 100000        # Total episodes\n",
    "learning_rate = 0.7           # Learning rate\n",
    "max_steps = 500                # Max steps per episode\n",
    "gamma = 0.6                  # Discounting rate\n",
    "\n",
    "# Exploration parameters\n",
    "epsilon = 1.0                 # Exploration rate\n",
    "max_epsilon = 1.0             # Exploration probability at start\n",
    "min_epsilon = 0.001            # Minimum exploration probability \n",
    "decay_rate = 0.005             # Exponential decay rate for exploration prob"
   ]
  },
  {
   "cell_type": "code",
   "execution_count": 24,
   "metadata": {},
   "outputs": [
    {
     "name": "stdout",
     "output_type": "stream",
     "text": [
      "Episode 0: -0.01\n",
      "Episode 10000: -0.16\n",
      "Episode 20000: 0.63\n",
      "Episode 30000: 1.42\n",
      "Episode 40000: 2.2\n",
      "Episode 50000: 2.99\n",
      "Episode 60000: 3.78\n",
      "Episode 70000: 4.56\n",
      "Episode 80000: 5.35\n",
      "Episode 90000: 6.14\n",
      "[[  0.           0.           0.           0.           0.\n",
      "    0.        ]\n",
      " [ -2.41803474  -2.37171865  -2.41831196  -2.36411402  -2.27325184\n",
      "  -11.34330637]\n",
      " [ -2.05340436  -1.46008636  -1.90165451  -1.50835036  -0.7504\n",
      "  -10.45146355]\n",
      " ...\n",
      " [ -1.64437      0.22957941  -1.675744    -1.6414972  -10.213\n",
      "  -10.213     ]\n",
      " [ -2.21605084  -2.12141245  -2.1767709   -2.22236765 -11.05009856\n",
      "  -10.484656  ]\n",
      " [  5.59998815   1.43960008   3.71        11.          -3.40044686\n",
      "   -3.40277028]]\n"
     ]
    }
   ],
   "source": [
    "# Implement q-learning algorithm\n",
    "\n",
    "\"\"\"\n",
    "1. Implement Q-values (Q(s, a)) arbitrarily for all state-action pairs (done)\n",
    "2. For life or until learning is stopped...\n",
    "3. Choose an action (a) in the current world state (s) based on current Q-value estimates \n",
    "4. Take the action (a) and observe the outcome state (s') and reward (r)\n",
    "5. Update Q(s, a) := Q(s, a) + learning_rate(r + \\gamma )\n",
    "\"\"\"\n",
    "rewards = []\n",
    "\n",
    "def exploit():\n",
    "    \"\"\"Returns True if we are to take an action.\"\"\"\n",
    "    # Select a random number\n",
    "    n = random.uniform(0, 1)\n",
    "    return n > epsilon # If n > epislon, we exploit.\n",
    "\n",
    "def update_qtable(state, action, new_state):\n",
    "    qtable[state, action] = qtable[state, action] + learning_rate * (reward + gamma * np.max(qtable[new_state, :]) - qtable[state, action])\n",
    "\n",
    "for episode in range(total_episodes):\n",
    "    # Reset the environment\n",
    "    state = env.reset()\n",
    "    step = 0\n",
    "    done = False\n",
    "    total_rewards = 0\n",
    "    \n",
    "    for s in range(max_steps):\n",
    "        # Choose an action.\n",
    "        if exploit():\n",
    "            # Exploit.\n",
    "            action = np.argmax(qtable[state, :])\n",
    "        else:\n",
    "            # Explore; choose and take a random action.\n",
    "            action = env.action_space.sample()\n",
    "            \n",
    "        new_state, reward, done, info = env.step(action)\n",
    "            \n",
    "        # Update the qtable.\n",
    "        update_qtable(state, action, new_state)\n",
    "            \n",
    "        # Update other variables.\n",
    "        total_rewards += reward\n",
    "        state = new_state\n",
    "            \n",
    "        # Check if we're dead.\n",
    "        if done == True:\n",
    "            break\n",
    "\n",
    "    # Reduce epsilon.\n",
    "    epsilon = min_epsilon + (max_epsilon - min_epsilon) * np.exp(-decay_rate * episode)\n",
    "    rewards.append(total_rewards)\n",
    "    \n",
    "    # Print score every few steps to make sure that we're learning.\n",
    "    if episode % 10000 == 0:\n",
    "        average_score = round(sum(rewards)/total_episodes, 2)\n",
    "        print(\"Episode {episode}: {average_score}\".format(episode=episode, average_score=average_score))\n",
    "\n",
    "print(qtable)"
   ]
  },
  {
   "cell_type": "code",
   "execution_count": 38,
   "metadata": {},
   "outputs": [
    {
     "name": "stdout",
     "output_type": "stream",
     "text": [
      "78613\n",
      "Score over 10000 trials: 7.8613\n"
     ]
    }
   ],
   "source": [
    "# Play Taxi.\n",
    "\n",
    "env.reset()\n",
    "\n",
    "n_trials = 10000\n",
    "rewards = []\n",
    "\n",
    "for episode in range(n_trials):\n",
    "    state = env.reset()\n",
    "    step = 0\n",
    "    done = False\n",
    "    #print(\"****************************************************\")\n",
    "    #print(\"EPISODE \", episode)\n",
    "    total_reward = 0\n",
    "    \n",
    "    for step in range(max_steps):\n",
    "        \n",
    "        # Take the action (index) that have the maximum expected future reward given that state\n",
    "        action = np.argmax(qtable[state,:])\n",
    "        \n",
    "        new_state, reward, done, info = env.step(action)\n",
    "        total_reward += reward\n",
    "        \n",
    "        # env.render()\n",
    "        if done:\n",
    "            # Here, we decide to only print the last state (to see if our agent is on the goal or fall into an hole)\n",
    "            # env.render()\n",
    "            \n",
    "            #print(\"Score\", reward)\n",
    "            rewards.append(total_reward)\n",
    "            break\n",
    "        state = new_state\n",
    "        \n",
    "print(\"Score over {n} trials: \".format(n=n_trials) + str(sum(rewards)/n_trials))\n",
    "env.close()"
   ]
  }
 ],
 "metadata": {
  "kernelspec": {
   "display_name": "Python 3",
   "language": "python",
   "name": "python3"
  },
  "language_info": {
   "codemirror_mode": {
    "name": "ipython",
    "version": 3
   },
   "file_extension": ".py",
   "mimetype": "text/x-python",
   "name": "python",
   "nbconvert_exporter": "python",
   "pygments_lexer": "ipython3",
   "version": "3.8.2"
  }
 },
 "nbformat": 4,
 "nbformat_minor": 4
}
