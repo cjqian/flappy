{
 "cells": [
  {
   "cell_type": "markdown",
   "metadata": {},
   "source": [
    "# [Easy21](https://www.davidsilver.uk/wp-content/uploads/2020/03/Easy21-Johannes.pdf) solution"
   ]
  },
  {
   "cell_type": "code",
   "execution_count": 1,
   "metadata": {},
   "outputs": [],
   "source": [
    "from enum import Enum\n",
    "import logging\n",
    "import random\n",
    "\n",
    "import pandas as pd\n",
    "import numpy as np"
   ]
  },
  {
   "cell_type": "markdown",
   "metadata": {},
   "source": [
    "## Environment"
   ]
  },
  {
   "cell_type": "code",
   "execution_count": 120,
   "metadata": {},
   "outputs": [],
   "source": [
    "# Set up environment for Easy21.\n",
    "class Action(Enum):\n",
    "    STICK = 0\n",
    "    HIT = 1\n",
    "    \n",
    "class Color(Enum):\n",
    "    RED = 0\n",
    "    BLACK = 1\n",
    "    \n",
    "class Episode(object):\n",
    "    def __init__(self, s):\n",
    "        self.states = [s]\n",
    "        self.rewards = []\n",
    "   \n",
    "    def add(self, s, r):\n",
    "        self.states.append(s)\n",
    "        self.rewards.append(r)\n",
    "        \n",
    "    def __str__(self):\n",
    "        return (\"States: {}\\nRewards: {}\".format(\n",
    "            [s.player_sum for s in self.states], self.rewards))\n",
    "    \n",
    "    def score(self):\n",
    "        return self.rewards[-1]\n",
    "        \n",
    "class Card(object):   \n",
    "    def __init__(self, color, value):\n",
    "        self.color = color\n",
    "        self.value = value\n",
    "        \n",
    "    def __str__(self):\n",
    "        return \"Card: {} {}\".format(self.color, self.value)\n",
    "    \n",
    "class Reward(object):\n",
    "    LOSS = -1\n",
    "    DRAW = 0\n",
    "    WIN = 1\n",
    "    \n",
    "class State(object):\n",
    "    def __init__(self,\n",
    "                 dealer_first_card=None,\n",
    "                 player_sum=None,\n",
    "                 is_terminal=False):\n",
    "        self.dealer_first_card = dealer_first_card\n",
    "        self.player_sum = player_sum\n",
    "        self.is_terminal = is_terminal\n",
    "        \n",
    "    @property\n",
    "    def key(self):\n",
    "        \"\"\"Returns a hashable key.\"\"\"\n",
    "        return (self.dealer_first_card.value, self.player_sum)\n",
    "    \n",
    "    def __str__(self):\n",
    "        return (\"State:\\n\\tDealer's first card: {}\\n\\t\"\n",
    "                \"Player sum: {}\\n\\t\"\n",
    "                \"Is terminal: {}\\n\".format(\n",
    "            str(self.dealer_first_card),\n",
    "            self.player_sum,\n",
    "            self.is_terminal\n",
    "        ))\n",
    "    \n",
    "def draw(v = None, c = None):\n",
    "    \"\"\"Returns a card from an infinite deck of cards.\n",
    "    \n",
    "    Each draw results in a value between 1 and 10 (uniformly distributed)\n",
    "    with a color of red (p = 1/3) or black (p = 2/3).\n",
    "    \n",
    "    Args:\n",
    "        v: A pre-determined value.\n",
    "        c: A pre-determined color.\n",
    "    \"\"\"\n",
    "    value = v or random.randint(1, 10)\n",
    "    color = c or (Color.RED if random.random() < 1/3 else Color.BLACK)\n",
    "    \n",
    "    return Card(color=color, value=value)\n",
    "   \n",
    "class Round(object):\n",
    "    BUST_LOWER_BOUND = 1\n",
    "    BUST_UPPER_BOUND = 21\n",
    "    \n",
    "    # The dealer sticks on any sum of 17 or greater and hits otherwise.\n",
    "    DEALER_STICK_VALUE = 17\n",
    "    \n",
    "    def __init__(self):\n",
    "        pass\n",
    "    \n",
    "    @staticmethod\n",
    "    def get_deck_sum(deck):\n",
    "        \"\"\"Returns the sum of a list of Card elements.\n",
    "        \n",
    "        Values are added (black) or subtracted (red).\n",
    "        \"\"\"\n",
    "        s = sum([c.value for c in deck if c.color == Color.BLACK])\n",
    "        s -= sum([c.value for c in deck if c.color == Color.RED])\n",
    "        \n",
    "        return s\n",
    "    \n",
    "    @staticmethod\n",
    "    def is_busted(deck_sum):\n",
    "        return (deck_sum > Round.BUST_UPPER_BOUND or \\\n",
    "           deck_sum < Round.BUST_LOWER_BOUND)\n",
    "    \n",
    "    @staticmethod\n",
    "    def update_sum(cur_sum, card):  \n",
    "        card_value = card.value if card.color == Color.BLACK \\\n",
    "                                else -1 * card.value\n",
    "        return cur_sum + card_value\n",
    "    \n",
    "    def step(self, s, a):\n",
    "        \"\"\"Returns a sample of the next state s' and reward r.\n",
    "    \n",
    "        Args:\n",
    "            s: A state.\n",
    "            a: An action.\n",
    "        \"\"\"\n",
    "        # If the player hits...\n",
    "        if a == Action.HIT:\n",
    "            # She draws another card from the deck.\n",
    "            card = draw()\n",
    "            \n",
    "            logging.debug(\"Player hits and draws {}\".format(card))\n",
    "                \n",
    "            # The value of the player's cards are added (black) or\n",
    "            # subtracted (red cards).\n",
    "            player_sum = Round.update_sum(s.player_sum, card)\n",
    "            \n",
    "            logging.debug(\"Player sum: {}\".format(player_sum))\n",
    "                    \n",
    "            ns = State(\n",
    "                    dealer_first_card=s.dealer_first_card,\n",
    "                    player_sum=player_sum,\n",
    "                    is_terminal=False)\n",
    "            \n",
    "            if Round.is_busted(player_sum):\n",
    "                logging.debug(\"Busted! Womp womp.\")\n",
    "                ns.is_terminal = True\n",
    "                return (ns, Reward.LOSS)\n",
    "            \n",
    "            else:\n",
    "                logging.debug(\"Next state: {}\".format(ns))\n",
    "                    \n",
    "                return (ns, 0) # Game is still going, no reward.\n",
    "            \n",
    "        # If the player sticks:\n",
    "        else:\n",
    "            # She receives no further cards.\n",
    "            player_sum = s.player_sum\n",
    "            \n",
    "            logging.debug(\"Player is sticking with sum {}\".format(\n",
    "                    player_sum))\n",
    "                \n",
    "            dealer_sum = s.dealer_first_card.value\n",
    "            \n",
    "            # The dealer starts taking turns.\n",
    "            while (dealer_sum < Round.DEALER_STICK_VALUE and \\\n",
    "                  not(Round.is_busted(dealer_sum))):\n",
    "                \n",
    "                    \n",
    "                # Dealer hits.\n",
    "                card = draw()\n",
    "                \n",
    "                dealer_sum = Round.update_sum(dealer_sum, card)\n",
    "                logging.debug(\"\\tDealer draws {}, sum: {}\".format(\n",
    "                    card, dealer_sum))\n",
    "            \n",
    "            if Round.is_busted(dealer_sum):\n",
    "                logging.debug(\"Dealer busted!\")\n",
    "            else:\n",
    "                logging.debug(\"Dealer is sticking with sum {}\".format(\n",
    "                    dealer_sum))\n",
    "            \n",
    "            ns = State(is_terminal=True)\n",
    "\n",
    "            if Round.is_busted(dealer_sum):\n",
    "                r = Reward.WIN\n",
    "            # This probably will not be triggered.\n",
    "            elif Round.is_busted(player_sum):\n",
    "                r = Reward.LOSS\n",
    "            elif player_sum == dealer_sum:\n",
    "                r = Reward.DRAW\n",
    "            else:\n",
    "                r = Reward.WIN if player_sum > dealer_sum \\\n",
    "                    else Reward.LOSS\n",
    "                \n",
    "            logging.debug(\"Reward: {}\".format(r))\n",
    "            \n",
    "            return (ns, r)"
   ]
  },
  {
   "cell_type": "code",
   "execution_count": 121,
   "metadata": {},
   "outputs": [
    {
     "name": "stdout",
     "output_type": "stream",
     "text": [
      "Average score: -0.2595 (-2595/10000)\n",
      "\tWins: 3468\n",
      "\tDraws: 469\n",
      "\tLosses: 6063\n"
     ]
    },
    {
     "data": {
      "image/png": "[encoded data removed]",
      "text/plain": [
       "<Figure size 432x288 with 1 Axes>"
      ]
     },
     "metadata": {
      "needs_background": "light"
     },
     "output_type": "display_data"
    }
   ],
   "source": [
    "# Add baselines and wrappers to play the game.\n",
    "def strategy_always_hit(s):\n",
    "    return Action.HIT\n",
    "\n",
    "def strategy_always_stick(s):\n",
    "    return Action.STICK\n",
    "\n",
    "def strategy_dealer_mirror(s):\n",
    "    \"\"\"This strategy also sticks at 17+.\"\"\"\n",
    "    if s.player_sum >= 17:\n",
    "        return Action.STICK\n",
    "    return Action.HIT\n",
    "\n",
    "def run_episode(strategy, show_debug=False):\n",
    "    \n",
    "    if show_debug:\n",
    "        logging.getLogger().setLevel(logging.DEBUG)\n",
    "    else:\n",
    "        logging.getLogger().setLevel(logging.INFO)\n",
    "        \n",
    "    # Initialize.\n",
    "    # Player starts with a black card.\n",
    "    player_first_card = draw(c=Color.BLACK)\n",
    "    player_sum = player_first_card.value\n",
    "    logging.debug(\"Player first card: {}\".format(player_first_card))\n",
    "\n",
    "    # Dealer starts with a black card.\n",
    "    dealer_first_card = draw(c=Color.BLACK)\n",
    "    logging.debug(\"Dealer first card: {}\".format(dealer_first_card))\n",
    "\n",
    "    game = Round()\n",
    "    \n",
    "    s = State(dealer_first_card=dealer_first_card,\n",
    "          player_sum=player_sum,\n",
    "          is_terminal=False)\n",
    "    episode = Episode(s)\n",
    "    \n",
    "    while (not s.is_terminal):\n",
    "        ns, r = game.step(s, strategy(s))\n",
    "        episode.add(ns, r)\n",
    "        \n",
    "        is_terminal = ns.is_terminal\n",
    "        s = ns\n",
    "       \n",
    "    return episode\n",
    "\n",
    "def run_episodes(n, strategy, show_debug=False):\n",
    "    episodes = []\n",
    "    for i in range(n):\n",
    "        e = run_episode(strategy, show_debug)\n",
    "        episodes.append(e)\n",
    "\n",
    "    rs = [e.score() for e in episodes]\n",
    "    print(\"Average score: {} ({}/{})\".format(sum(rs)/len(rs), sum(rs), len(rs)))\n",
    "    print(\"\\tWins: {}\".format(sum([1 for r in rs if r == 1])))\n",
    "    print(\"\\tDraws: {}\".format(sum([1 for r in rs if r == 0])))\n",
    "    print(\"\\tLosses: {}\".format(sum([1 for r in rs if r == -1])))\n",
    "    \n",
    "    # Plot graph over episodes.\n",
    "    rolling_n = round(n/100)\n",
    "    ax = pd.Series(rs).rolling(rolling_n).mean()[rolling_n - 1:].plot(\n",
    "        title=strategy.__name__)\n",
    "    ax.set_xlabel(\"episodes\")\n",
    "    ax.set_ylabel(\"score\")\n",
    "    \n",
    "    # Add a trendline.\n",
    "    x = [x for x in range(len(rs))]\n",
    "    z = np.polyfit(x, rs, 6)\n",
    "    p = np.poly1d(z)\n",
    "    ax.plot(x, p(x), \"r--\")\n",
    "    \n",
    "    return episodes\n",
    "\n",
    "\n",
    "# e = run_episode(strategy_dealer_mirror, show_debug=False)\n",
    "# print(e)\n",
    "\n",
    "episodes = run_episodes(10000, strategy_dealer_mirror, show_debug=False)"
   ]
  },
  {
   "cell_type": "markdown",
   "metadata": {},
   "source": [
    "## Monte-Carlo control"
   ]
  },
  {
   "cell_type": "code",
   "execution_count": 126,
   "metadata": {},
   "outputs": [],
   "source": [
    "# Monte-Carlo policy evaluation Q = q_\\pi\n",
    "\n",
    "class MonteCarloControl(object):\n",
    "    def __init__(self):\n",
    "        self.counters = {}\n",
    "        self.returns = {}\n",
    "    \n",
    "    def evaluate_episode(self, e):\n",
    "        \"\"\"Every-visit Monte-Carlo policy evaluation.\"\"\"\n",
    "        # Slides here: is.gd/c6uc79\n",
    "        g_t = e.score()\n",
    "        # Every time-step t that state s is visited in an epsiode:\n",
    "        for s in e.states:\n",
    "            if s.is_terminal:\n",
    "                continue\n",
    "                \n",
    "            # Increment counter N(s) <- N(s) + 1\n",
    "            self.increment(self.counters, s, 1)\n",
    "                \n",
    "            # Increment total return S(s) <- S(s) + G_t\n",
    "            self.increment(self.returns, s, g_t)\n",
    "        \n",
    "    def increment(self, dictionary, state, value):\n",
    "        key = state.key\n",
    "        if key not in dictionary:\n",
    "            dictionary[key] = value\n",
    "        else:\n",
    "            dictionary[key] += value\n",
    "\n",
    "    def get_value(self, state_key):\n",
    "        if state_key not in self.returns or state_key not in self.counters:\n",
    "            raise KeyError(\"State {} is not in returns or counters!\".format(\n",
    "            state))\n",
    "        return self.returns[state_key] / self.counters[state_key]\n",
    "    \n",
    "    @property\n",
    "    def values(self):\n",
    "        shared_keys = self.returns.keys() & self.counters.keys()\n",
    "        values = {}\n",
    "        for k in shared_keys:\n",
    "            values[k] = self.get_value(k)\n",
    "            \n",
    "    "
   ]
  },
  {
   "cell_type": "code",
   "execution_count": 128,
   "metadata": {},
   "outputs": [
    {
     "name": "stdout",
     "output_type": "stream",
     "text": [
      "{(4, 7): 1, (4, 2): 1, (4, 11): 1, (4, 21): 1, (9, 9): 1, (9, 15): 1, (2, 4): 1, (2, 11): 1, (2, 10): 1, (2, 17): 1, (8, 3): 1, (3, 10): 1, (3, 13): 1, (3, 20): 1, (7, 1): 1, (5, 8): 1, (5, 12): 1, (5, 18): 1, (6, 7): 1, (6, 14): 1, (10, 4): 1, (10, 5): 1, (10, 3): 1, (10, 9): 1, (10, 16): 1}\n",
      "{(4, 7): 1, (4, 2): 1, (4, 11): 1, (4, 21): 1, (9, 9): -1, (9, 15): -1, (2, 4): 1, (2, 11): 1, (2, 10): 1, (2, 17): 1, (8, 3): -1, (3, 10): 1, (3, 13): 1, (3, 20): 1, (7, 1): -1, (5, 8): -1, (5, 12): -1, (5, 18): -1, (6, 7): -1, (6, 14): -1, (10, 4): -1, (10, 5): -1, (10, 3): -1, (10, 9): -1, (10, 16): -1}\n"
     ]
    }
   ],
   "source": [
    "tests = episodes[:10]\n",
    "mc = MonteCarloControl()\n",
    "for t in tests:\n",
    "    mc.evaluate_episode(t)\n",
    "print(mc.counters)\n",
    "print(mc.returns)"
   ]
  },
  {
   "cell_type": "code",
   "execution_count": null,
   "metadata": {},
   "outputs": [],
   "source": [
    "# Initialize the value function to 0\n",
    "# Use a time-varying scalar step-size of \\alpha_t = 1/N(s_t, a_t)\n",
    "# And an \\epsilon-greedy exploration strategy with \n",
    "# \\epsilon_t = N_0 / (N_0 + N(s_t)), where N_0 = 100"
   ]
  },
  {
   "cell_type": "code",
   "execution_count": 72,
   "metadata": {},
   "outputs": [
    {
     "name": "stdout",
     "output_type": "stream",
     "text": [
      "Average score: -1.0 (-5000/5000)\n",
      "\tWins: 0\n",
      "\tDraws: 0\n",
      "\tLosses: 5000\n"
     ]
    },
    {
     "data": {
      "image/png": "[encoded data removed]",
      "text/plain": [
       "<Figure size 432x288 with 1 Axes>"
      ]
     },
     "metadata": {
      "needs_background": "light"
     },
     "output_type": "display_data"
    }
   ],
   "source": [
    "def strategy_monte_carlo(s):\n",
    "    return Action.HIT\n",
    "\n",
    "episodes = run_episodes(5000, strategy_monte_carlo, show_debug=False)"
   ]
  },
  {
   "cell_type": "markdown",
   "metadata": {},
   "source": [
    "## Tests"
   ]
  },
  {
   "cell_type": "code",
   "execution_count": 3,
   "metadata": {},
   "outputs": [
    {
     "name": "stdout",
     "output_type": "stream",
     "text": [
      "[10063, 9849, 10006, 9918, 10001, 10018, 10037, 10077, 10020, 10011]\n",
      "[33536, 66464]\n"
     ]
    }
   ],
   "source": [
    "# Verify draw distributions.\n",
    "numbers = [0] * 10\n",
    "colors = [0] * 2\n",
    "\n",
    "for i in range(100000):\n",
    "    card = draw()\n",
    "    # Expected to be uniform.\n",
    "    numbers[card.value - 1] += 1\n",
    "    \n",
    "    # Expected to be 1/3, 2/3.\n",
    "    colors[card.color.value] += 1\n",
    "    \n",
    "print(numbers)\n",
    "print(colors)"
   ]
  },
  {
   "cell_type": "code",
   "execution_count": 4,
   "metadata": {},
   "outputs": [
    {
     "name": "stdout",
     "output_type": "stream",
     "text": [
      "0\n",
      "True\n"
     ]
    }
   ],
   "source": [
    "# Verify Round.get_deck_sum() \n",
    "cards = [Card(Color.BLACK, 1), Card(Color.RED, 4), Card(Color.BLACK, 3)]\n",
    "# Expected 0 (1 + 3 - 4)\n",
    "print(Round.get_deck_sum(cards))\n",
    "\n",
    "# Verify is_busted().\n",
    "cards = [Card(Color.BLACK, 23), Card(Color.RED, 4), Card(Color.BLACK, 3)]\n",
    "s = sum([c.value for c in cards])\n",
    "print(Round.is_busted(s))"
   ]
  },
  {
   "cell_type": "code",
   "execution_count": 32,
   "metadata": {},
   "outputs": [
    {
     "name": "stdout",
     "output_type": "stream",
     "text": [
      "Average score: -0.2768\n"
     ]
    },
    {
     "data": {
      "image/png": "[encoded data removed]",
      "text/plain": [
       "<Figure size 432x288 with 1 Axes>"
      ]
     },
     "metadata": {
      "needs_background": "light"
     },
     "output_type": "display_data"
    }
   ],
   "source": []
  }
 ],
 "metadata": {
  "kernelspec": {
   "display_name": "Python 3",
   "language": "python",
   "name": "python3"
  },
  "language_info": {
   "codemirror_mode": {
    "name": "ipython",
    "version": 3
   },
   "file_extension": ".py",
   "mimetype": "text/x-python",
   "name": "python",
   "nbconvert_exporter": "python",
   "pygments_lexer": "ipython3",
   "version": "3.8.2"
  }
 },
 "nbformat": 4,
 "nbformat_minor": 4
}
